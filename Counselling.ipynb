{
  "nbformat": 4,
  "nbformat_minor": 0,
  "metadata": {
    "colab": {
      "provenance": [],
      "authorship_tag": "ABX9TyN+0PSLT8PXOpMU6+NEiUeW",
      "include_colab_link": true
    },
    "kernelspec": {
      "name": "python3",
      "display_name": "Python 3"
    },
    "language_info": {
      "name": "python"
    }
  },
  "cells": [
    {
      "cell_type": "markdown",
      "metadata": {
        "id": "view-in-github",
        "colab_type": "text"
      },
      "source": [
        "<a href=\"https://colab.research.google.com/github/Source-Code777/Machine_Learning_Projects/blob/main/Counselling.ipynb\" target=\"_parent\"><img src=\"https://colab.research.google.com/assets/colab-badge.svg\" alt=\"Open In Colab\"/></a>"
      ]
    },
    {
      "cell_type": "markdown",
      "source": [
        "# **GATHERING DATA USING PANDAS WEB_SCRAPPER FROM WBJEE_WEBSITE**"
      ],
      "metadata": {
        "id": "2cu1LBlO9I5p"
      }
    },
    {
      "cell_type": "code",
      "execution_count": null,
      "metadata": {
        "id": "yLvSEftLvKSk"
      },
      "outputs": [],
      "source": [
        "import pandas as pd\n",
        "url_23='https://admissions.nic.in/wbjeeb/Applicant/report/orcrreport.aspx?enc=b6w3EPyuw0C4FADZ4v1XmYUz0XFq314fzLjkE3wbM2xr/DbsjpvUS9LBCKXjSeSL'\n",
        "tables_23=pd.read_html(url_23)\n",
        "url_24='https://admissions.nic.in/wbjeeb/Applicant/report/orcrreport.aspx?enc=Nm7QwHILXclJQSv2YVS+7l8OpFY/O746kfneOXEneV50mv1B/txHsSKB11hFlsvw'\n",
        "tables_24=pd.read_html(url_24)"
      ]
    },
    {
      "cell_type": "markdown",
      "source": [
        "**CREATING DATAFRAMES YEAR-WISE**"
      ],
      "metadata": {
        "id": "JYGzbyBt9hJg"
      }
    },
    {
      "cell_type": "code",
      "source": [
        "df_23=tables_23[0]\n",
        "df_24=tables_24[0]"
      ],
      "metadata": {
        "id": "YotwbVEcv5cq"
      },
      "execution_count": null,
      "outputs": []
    },
    {
      "cell_type": "code",
      "source": [
        "df_24.sample(5)"
      ],
      "metadata": {
        "id": "V5aFnzee8ukN"
      },
      "execution_count": null,
      "outputs": []
    },
    {
      "cell_type": "code",
      "source": [
        "df_23.sample(5)"
      ],
      "metadata": {
        "id": "7Lw5VHPCjm7U"
      },
      "execution_count": null,
      "outputs": []
    },
    {
      "cell_type": "markdown",
      "source": [
        "**RE-NAMING THE FEATURES **"
      ],
      "metadata": {
        "id": "BshxMNk1lpcs"
      }
    },
    {
      "cell_type": "code",
      "source": [
        "def preprocess_dataframe(df, year):\n",
        "\n",
        "    df.columns = df.columns.str.strip()\n",
        "    rename_map = {\n",
        "        \"Institute\": \"College_Name\",\n",
        "        \"Program\": \"Branch\",\n",
        "        \"Quota\": \"Domicile\",\n",
        "        \"Category\": \"Reservation\"\n",
        "    }\n",
        "\n",
        "    df = df.rename(mapper=rename_map,axis=1)\n",
        "    df[\"Year\"]=year\n",
        "\n",
        "    return df"
      ],
      "metadata": {
        "id": "uHWLktwS9nUl"
      },
      "execution_count": null,
      "outputs": []
    },
    {
      "cell_type": "markdown",
      "source": [
        " **ADDING YEAR COLUMN IN THE DATAFRAME**"
      ],
      "metadata": {
        "id": "y0zNMkPYmTZn"
      }
    },
    {
      "cell_type": "code",
      "source": [
        "df_23 = preprocess_dataframe(df_23, 2023)\n",
        "df_24 = preprocess_dataframe(df_24, 2024)"
      ],
      "metadata": {
        "id": "caa87IpxwUQW"
      },
      "execution_count": null,
      "outputs": []
    },
    {
      "cell_type": "markdown",
      "source": [
        "**CONACATENATING THE DATA-FRAMES**"
      ],
      "metadata": {
        "id": "naYvht7sme-1"
      }
    },
    {
      "cell_type": "code",
      "source": [
        "df=pd.concat([df_23,df_24],axis=0,ignore_index=False)"
      ],
      "metadata": {
        "id": "9UDAC5_x-BZJ"
      },
      "execution_count": null,
      "outputs": []
    },
    {
      "cell_type": "code",
      "source": [
        "df.sample(5)"
      ],
      "metadata": {
        "id": "m5Z7r9jnwWrJ"
      },
      "execution_count": null,
      "outputs": []
    },
    {
      "cell_type": "code",
      "source": [
        "df.info()"
      ],
      "metadata": {
        "id": "7QQgDid6AlRI"
      },
      "execution_count": null,
      "outputs": []
    },
    {
      "cell_type": "code",
      "source": [
        "df=df.drop(['Sr.No'],axis=1)"
      ],
      "metadata": {
        "id": "NCBxnXlTA9jc"
      },
      "execution_count": null,
      "outputs": []
    },
    {
      "cell_type": "code",
      "source": [
        "df.shape\n",
        "#8093->ROWS,10->COLUMNS"
      ],
      "metadata": {
        "id": "Ul2O7kobwlIz"
      },
      "execution_count": null,
      "outputs": []
    },
    {
      "cell_type": "code",
      "source": [
        "df.isnull().sum()\n",
        "#NO NULL VALUE"
      ],
      "metadata": {
        "id": "3IhyZ8LpwoVy"
      },
      "execution_count": null,
      "outputs": []
    },
    {
      "cell_type": "code",
      "source": [
        "df['Reservation'].unique()"
      ],
      "metadata": {
        "id": "nvKPl_cGxBHR"
      },
      "execution_count": null,
      "outputs": []
    },
    {
      "cell_type": "code",
      "source": [
        "df['Branch'].unique()"
      ],
      "metadata": {
        "id": "ZkP1aQiIxYQs"
      },
      "execution_count": null,
      "outputs": []
    },
    {
      "cell_type": "code",
      "source": [
        "#WE NEED TO REMOVE THE KEYWORD TFW FROM THE VALUES IN BRANCH COLUMN.\n",
        "# BECAUSE IT IS CREATING DUPLICATE VALUES AND REGARDLESS WE ALREADY HAVE A RESERVATION COLUMN\n",
        "#ALSO WE NEED TO REPLACE UNWANTED SYMBOLS\n",
        "df['Branch']=df['Branch'].str.replace(\"TFW\",\"\",regex=False)\n",
        "df['Branch']=df['Branch'].str.replace(\"()\",\"\",regex=False)\n",
        "df['Branch']=df['Branch'].str.replace(\"Tfw\",\"\",regex=False)\n",
        "df['Branch']=df['Branch'].str.replace(\"-\",\"\",regex=False)\n",
        "df['Branch']=df['Branch'].str.replace(\",\",\"\",regex=False)"
      ],
      "metadata": {
        "id": "k2UrCWJqDpyF"
      },
      "execution_count": null,
      "outputs": []
    },
    {
      "cell_type": "code",
      "source": [
        "df[\"Branch\"] = (\n",
        "    df[\"Branch\"]\n",
        "    .str.extract(r\"\\(\\s*(.*?)\\s*\\)\")[0]  # extract text inside parentheses\n",
        "    .fillna(df[\"Branch\"])                # if no parentheses, keep original\n",
        "    .str.strip()                          # remove leading/trailing spaces\n",
        ")"
      ],
      "metadata": {
        "id": "t-6yrSpKGttk"
      },
      "execution_count": null,
      "outputs": []
    },
    {
      "cell_type": "markdown",
      "source": [
        "# **DATA PREPROCESSING**"
      ],
      "metadata": {
        "id": "kZSEaLwHqhGJ"
      }
    },
    {
      "cell_type": "code",
      "source": [
        "df=df.drop(['Stream'],axis=1)\n",
        "#Dropping stream because it have a single value"
      ],
      "metadata": {
        "id": "NmM2vMCPzchq"
      },
      "execution_count": null,
      "outputs": []
    },
    {
      "cell_type": "markdown",
      "source": [
        "# **CLEANING THE PROGRAM COLUMN**"
      ],
      "metadata": {
        "id": "x5HUrZT1sa0J"
      }
    },
    {
      "cell_type": "code",
      "metadata": {
        "id": "bf0548c2"
      },
      "source": [
        "df[\"Branch\"].str.replace(r\"[^a-zA-Z\\s]\", \"\", regex=True)"
      ],
      "execution_count": null,
      "outputs": []
    },
    {
      "cell_type": "code",
      "source": [
        "df['Branch'].value_counts()"
      ],
      "metadata": {
        "id": "9ijRBm6EID0a",
        "collapsed": true
      },
      "execution_count": null,
      "outputs": []
    },
    {
      "cell_type": "markdown",
      "source": [
        "# **CREATING A MAPPING FUNCTION AND APPLYING IT ON BRANCH COLUMN**"
      ],
      "metadata": {
        "id": "RWZ2ASq-dDD-"
      }
    },
    {
      "cell_type": "code",
      "source": [
        "import re\n",
        "def Cleaning_Func(df,column,min_threshold):\n",
        "\n",
        "  new_list=df[column]\n",
        "  class_counts=new_list.value_counts()\n",
        "  rare_classes = class_counts[class_counts < min_threshold].index\n",
        "  other_classes=[]\n",
        "\n",
        "  def map_value(val):\n",
        "    val_lower = val.lower() # Convert to lowercase for case-insensitive matching\n",
        "    if val in rare_classes:\n",
        "      other_classes.append(val)\n",
        "      return \"other\"\n",
        "    elif re.search(r\"\\bartificial intelligence\\b\", val_lower):\n",
        "      return \"AI\"\n",
        "    elif re.search(r\"\\bmachine learning\\b\", val_lower):\n",
        "        return \"AI\"\n",
        "    elif re.search(r\"\\bcomputer science\\b\", val_lower):\n",
        "      return \"CSE\"\n",
        "    elif re.search(r\"\\biot\\b|internet of things\\b\", val_lower):\n",
        "      return \"IOT\"\n",
        "    elif re.search(r\"\\bbiotech\\b|biotechnology\\b\", val_lower):\n",
        "      return \"BIO-TECH\"\n",
        "    elif re.search(r\"\\belectronics\\b\", val_lower):\n",
        "      return \"ECE\"\n",
        "    elif re.search(r\"\\bcivil\\b\", val_lower):\n",
        "      return \"CIVIL\"\n",
        "    elif re.search(r\"\\bmechanical\\b\", val_lower):\n",
        "      return \"MECHANICAL\"\n",
        "    elif re.search(r\"\\bchemical\\b\", val_lower):\n",
        "      return \"CHEMICAL\"\n",
        "    elif re.search(r\"\\bproduction\\b\", val_lower):\n",
        "      return \"PRODUCTION\"\n",
        "    elif re.search(r\"\\binformation\\b\",val_lower):\n",
        "      return \"IT\"\n",
        "    elif re.search(r\"\\belectrical\\b\",val_lower):\n",
        "      return \"EE\"\n",
        "    else:\n",
        "      return val\n",
        "\n",
        "  df[column + \"_short\"] = new_list.apply(map_value)\n",
        "\n",
        "  other_classes=list(set(other_classes))\n",
        "\n",
        "  return df, other_classes"
      ],
      "metadata": {
        "id": "ZQII2lRNJN-A"
      },
      "execution_count": null,
      "outputs": []
    },
    {
      "cell_type": "code",
      "source": [
        "df, other_list =Cleaning_Func(df, column=\"Branch\",min_threshold=10)\n",
        "print(\"Values mapped to 'other':\", other_list)"
      ],
      "metadata": {
        "id": "rPw7ZHWxZk-S"
      },
      "execution_count": null,
      "outputs": []
    },
    {
      "cell_type": "code",
      "metadata": {
        "id": "bde02a7c"
      },
      "source": [
        "df.sample(5)"
      ],
      "execution_count": null,
      "outputs": []
    },
    {
      "cell_type": "code",
      "source": [
        "df=df.drop([\"Branch\"],axis=1)"
      ],
      "metadata": {
        "id": "NlE7Ioo4dMEx"
      },
      "execution_count": null,
      "outputs": []
    },
    {
      "cell_type": "code",
      "source": [
        "#LET'S DROP THE PHRASE 'Round' from column Round as it is redundant\n",
        "df['Round']=df['Round'].str.replace(\"Round\",\"\",)\n",
        "#ALSO REMOVE COMMAS FROM COLLEGE NAME\n",
        "df['College_Name']=df['College_Name'].str.replace(\",\",\"\")"
      ],
      "metadata": {
        "id": "yvh9P7MaeYCB"
      },
      "execution_count": null,
      "outputs": []
    },
    {
      "cell_type": "code",
      "source": [
        "df['Seat Type'].unique()"
      ],
      "metadata": {
        "id": "pYUWfV5Qm23Q"
      },
      "execution_count": null,
      "outputs": []
    },
    {
      "cell_type": "code",
      "source": [
        "df.sample(5)"
      ],
      "metadata": {
        "id": "xo1berWw82qV"
      },
      "execution_count": null,
      "outputs": []
    },
    {
      "cell_type": "code",
      "source": [
        "df.isna().sum()\n",
        "#NO NULL VALUES"
      ],
      "metadata": {
        "id": "V4xdCemmAjQB"
      },
      "execution_count": null,
      "outputs": []
    },
    {
      "cell_type": "markdown",
      "source": [
        "# **VISUALIZING THE DATA**"
      ],
      "metadata": {
        "id": "umwzelCQvqFC"
      }
    },
    {
      "cell_type": "code",
      "source": [
        "#Year vs Closing_Rank outliers:\n",
        "\n",
        "import seaborn as sns\n",
        "import matplotlib.pyplot as plt\n",
        "\n",
        "sns.boxplot(x=\"Year\", y=\"Closing Rank\", data=df)\n",
        "plt.ticklabel_format(style='plain', axis='y')\n",
        "plt.show()"
      ],
      "metadata": {
        "id": "J-uKH-txvUKW"
      },
      "execution_count": null,
      "outputs": []
    },
    {
      "cell_type": "code",
      "source": [
        "#Top 10 Colleges by Median Closing Rank\n",
        "plt.figure(figsize=(10,6))\n",
        "top_colleges = df.groupby(\"College_Name\")[\"Closing Rank\"].median().sort_values().head(10)\n",
        "sns.barplot(x=top_colleges.values, y=top_colleges.index)\n",
        "plt.ticklabel_format(style='plain', axis='x')\n",
        "plt.title(\"Top 10 Colleges by Median Closing Rank\")\n",
        "plt.show()"
      ],
      "metadata": {
        "id": "UCadpEuevU6q"
      },
      "execution_count": null,
      "outputs": []
    },
    {
      "cell_type": "code",
      "source": [
        "#Opening vs Closing Rank\n",
        "plt.figure(figsize=(8,6))\n",
        "sns.scatterplot(x=\"Opening Rank\", y=\"Closing Rank\", hue=\"Year\", data=df, alpha=0.6)\n",
        "plt.ticklabel_format(style='plain', axis='both')\n",
        "plt.title(\"Opening vs Closing Rank\")\n",
        "plt.show()"
      ],
      "metadata": {
        "id": "qScILUEFv_fv"
      },
      "execution_count": null,
      "outputs": []
    },
    {
      "cell_type": "code",
      "source": [
        "df.info()"
      ],
      "metadata": {
        "id": "mcJS_EycwWCf"
      },
      "execution_count": null,
      "outputs": []
    },
    {
      "cell_type": "code",
      "source": [
        "plt.figure(figsize=(10,6))\n",
        "branch_rank = df.groupby(\"Branch_short\")[\"Closing Rank\"].mean().sort_values()\n",
        "sns.barplot(x=branch_rank.values, y=branch_rank.index)\n",
        "plt.ticklabel_format(style='plain', axis='x')\n",
        "plt.title(\"Average Closing Rank by Branch\")\n",
        "plt.show()"
      ],
      "metadata": {
        "id": "ffcfa1YywVBD"
      },
      "execution_count": null,
      "outputs": []
    },
    {
      "cell_type": "code",
      "source": [
        "plt.figure(figsize=(10,6))\n",
        "sns.countplot(x=\"Year\", hue=\"Branch_short\", data=df, palette=\"Set2\")\n",
        "plt.title(\"Branch_Demand_Year_wise\")\n",
        "plt.legend(bbox_to_anchor=(1,1.05), loc='upper left')\n",
        "plt.show()"
      ],
      "metadata": {
        "id": "vJ4TnH1swnIG"
      },
      "execution_count": null,
      "outputs": []
    },
    {
      "cell_type": "markdown",
      "source": [
        "# **LET'S DETECT OUTLIERS **"
      ],
      "metadata": {
        "id": "W6a2JKbmx_nE"
      }
    },
    {
      "cell_type": "code",
      "source": [
        "import numpy as np\n",
        "\n",
        "def detect_outliers(df, column):\n",
        "    Q1 = df[column].quantile(0.25)\n",
        "    Q3 = df[column].quantile(0.75)\n",
        "    IQR = Q3 - Q1\n",
        "\n",
        "    lower = Q1 - 1.5 * IQR\n",
        "    upper = Q3 + 1.5 * IQR\n",
        "\n",
        "    outliers = df[(df[column] < lower) | (df[column] > upper)]\n",
        "    return outliers, lower, upper\n",
        "\n",
        "outliers_open, low_open, up_open = detect_outliers(df, \"Opening Rank\")\n",
        "outliers_close, low_close, up_close = detect_outliers(df, \"Closing Rank\")\n",
        "\n",
        "print(\"Opening Rank outliers:\", len(outliers_open))\n",
        "print(\"Closing Rank outliers:\", len(outliers_close))"
      ],
      "metadata": {
        "id": "rJEfzB5Xw55r"
      },
      "execution_count": null,
      "outputs": []
    },
    {
      "cell_type": "code",
      "source": [
        "df.info()"
      ],
      "metadata": {
        "id": "0WmtB8Drn7YV"
      },
      "execution_count": null,
      "outputs": []
    },
    {
      "cell_type": "markdown",
      "source": [
        "# **CLEANING THE VALUES IN THE COLUMN AND CLASSIFYING THE COLLEGE'S AS GOVERMENT AND PRIVATE**"
      ],
      "metadata": {
        "id": "brrCfUGp580L"
      }
    },
    {
      "cell_type": "code",
      "source": [
        "import pandas as pd\n",
        "import re\n",
        "\n",
        "df.columns = df.columns.str.strip().str.lower().str.replace(\" \", \"_\").str.replace(\"-\", \"_\")\n",
        "\n",
        "df[\"college_name\"] = (\n",
        "    df[\"college_name\"]\n",
        "    .str.replace(\"Govt.\", \"Government\", regex=False)\n",
        "    .str.replace(\"Goverment\", \"Government\", regex=False)\n",
        "    .str.replace(\"&\", \"and\", regex=False)\n",
        "    .str.replace(r\"\\.\\.\\.$\", \"\", regex=True)\n",
        "    .str.title()\n",
        ")\n",
        "\n",
        "df[\"seat_type\"] = df[\"seat_type\"].str.replace(\" Seats\", \"\", regex=False)\n",
        "df[\"domicile\"] = df[\"domicile\"].replace({\"Home State\": \"Home\", \"All India\": \"AI\"})\n",
        "df[\"reservation\"] = df[\"reservation\"].replace({\"Tuition Fee Waiver\": \"TFW\"})\n",
        "\n",
        "gov_keywords = [\"government\", \"govt\", \"university of calcutta\", \"calcutta university\",\n",
        "                \"jadavpur university\", \"presidency university\", \"makaut\", \"wbut\",\n",
        "                \"kalyani university\", \"burdwan university\", \"vidyasagar university\",\n",
        "                \"north bengal university\", \"west bengal state university\", \"aliah university\"]\n",
        "\n",
        "def classify(name):\n",
        "    s = str(name).lower()\n",
        "    return \"Government\" if any(g in s for g in gov_keywords) else \"Private\"\n",
        "\n",
        "df[\"college_type\"] = df[\"college_name\"].apply(classify)\n",
        "\n",
        "print(\"df cleaned and classified\")"
      ],
      "metadata": {
        "id": "0oErfTBI6sAZ"
      },
      "execution_count": null,
      "outputs": []
    },
    {
      "cell_type": "markdown",
      "source": [
        "CLASSIFYING COLLEGES INTO HARD MEDIUM AND EASY BASED ON CLOSING RANK"
      ],
      "metadata": {
        "id": "Fkf7BnYv--CW"
      }
    },
    {
      "cell_type": "code",
      "source": [
        "df.sample(5)"
      ],
      "metadata": {
        "id": "A_W-pVBnqVIL"
      },
      "execution_count": null,
      "outputs": []
    },
    {
      "cell_type": "code",
      "source": [
        "def difficulty_label(df, total_seats=52000, new_col=\"difficulty_level\"):\n",
        "    df = df.copy()\n",
        "    df[\"closing_norm\"] = df[\"closing_rank\"] / total_seats\n",
        "\n",
        "    conditions = [\n",
        "        df[\"closing_norm\"] <= 0.2,   # top 20% ranks\n",
        "        (df[\"closing_norm\"] > 0.2) & (df[\"closing_norm\"] <= 0.6),\n",
        "        df[\"closing_norm\"] > 0.6\n",
        "    ]\n",
        "    choices = [\"Difficult\", \"Medium\", \"Easy\"]\n",
        "\n",
        "    df[new_col] = np.select(conditions, choices, default=\"Unknown\")\n",
        "    return df\n"
      ],
      "metadata": {
        "id": "oMJP_9lew1iX"
      },
      "execution_count": null,
      "outputs": []
    },
    {
      "cell_type": "code",
      "source": [
        "df =difficulty_label(df)"
      ],
      "metadata": {
        "id": "LPrzlPx7yPeM"
      },
      "execution_count": null,
      "outputs": []
    },
    {
      "cell_type": "code",
      "source": [
        "df.sample(5)"
      ],
      "metadata": {
        "id": "2sjVwuO-yR-6"
      },
      "execution_count": null,
      "outputs": []
    },
    {
      "cell_type": "markdown",
      "source": [
        "LET'S USE PANDAS PROFILER"
      ],
      "metadata": {
        "id": "LihZVAxSO_hJ"
      }
    },
    {
      "cell_type": "code",
      "source": [
        "!pip install ydata-profiling"
      ],
      "metadata": {
        "id": "gf4CDn7C2kQX"
      },
      "execution_count": null,
      "outputs": []
    },
    {
      "cell_type": "code",
      "source": [
        "from ydata_profiling import ProfileReport\n",
        "profile = ProfileReport(df, title=\"Pandas Profiling Report\", explorative=True)"
      ],
      "metadata": {
        "id": "FckDDVJEOqlC"
      },
      "execution_count": null,
      "outputs": []
    },
    {
      "cell_type": "code",
      "source": [
        "profile.to_notebook_iframe()"
      ],
      "metadata": {
        "id": "kj89WMAAOqep"
      },
      "execution_count": null,
      "outputs": []
    },
    {
      "cell_type": "markdown",
      "source": [
        "# **LETS DO SOME PRE-PROCESSING**"
      ],
      "metadata": {
        "id": "GE7VAsqqQjTb"
      }
    },
    {
      "cell_type": "code",
      "source": [
        "df.sample(5)"
      ],
      "metadata": {
        "id": "8-k005r8QcEn"
      },
      "execution_count": null,
      "outputs": []
    },
    {
      "cell_type": "code",
      "source": [
        "categorical_columns=[\"seat_type\",\"domicile\",\"reservation\",\"college_type\",\"difficulty_level\"]\n",
        "numerical_columns=[\"round\", \"opening_rank\", \"closing_rank\", \"year\", \"closing_norm\"]"
      ],
      "metadata": {
        "id": "AIRrDujvQcBi"
      },
      "execution_count": null,
      "outputs": []
    },
    {
      "cell_type": "code",
      "source": [
        "#Importing all necessary modules:\n",
        "from sklearn.model_selection import train_test_split,GridSearchCV\n",
        "from sklearn.preprocessing import StandardScaler\n",
        "from sklearn.preprocessing import OneHotEncoder, FunctionTransformer\n",
        "from sklearn.compose import ColumnTransformer\n",
        "from sklearn.pipeline import Pipeline\n",
        "from sklearn.tree import DecisionTreeClassifier\n",
        "from sklearn.linear_model import LogisticRegression"
      ],
      "metadata": {
        "id": "XnBCbKI0Qb-f"
      },
      "execution_count": null,
      "outputs": []
    },
    {
      "cell_type": "code",
      "source": [
        "X = df.drop([\"college_name\", \"branch_short\"], axis=1)\n",
        "Y_college = df[\"college_name\"]\n",
        "Y_branch = df[\"branch_short\"]"
      ],
      "metadata": {
        "id": "YTEgNJIMS-au"
      },
      "execution_count": null,
      "outputs": []
    },
    {
      "cell_type": "code",
      "source": [
        "preprocessor_softmax = ColumnTransformer(\n",
        "    transformers=[\n",
        "        (\"cat\", OneHotEncoder(handle_unknown=\"ignore\"), categorical_columns),\n",
        "        (\"num\", StandardScaler(), numerical_columns)\n",
        "    ]\n",
        ")"
      ],
      "metadata": {
        "id": "ErmLKkuGVBZ2"
      },
      "execution_count": null,
      "outputs": []
    },
    {
      "cell_type": "code",
      "source": [
        "#College_name_pipeline\n",
        "college_model = Pipeline([\n",
        "    (\"preprocessor\", preprocessor_softmax),\n",
        "    (\"classifier\", LogisticRegression(\n",
        "        multi_class=\"multinomial\",\n",
        "        solver=\"lbfgs\",\n",
        "        max_iter=1000,\n",
        "        n_jobs=-1,\n",
        "        random_state=42\n",
        "    ))\n",
        "])"
      ],
      "metadata": {
        "id": "UcvJ_fu0ZQKy"
      },
      "execution_count": null,
      "outputs": []
    },
    {
      "cell_type": "code",
      "source": [
        "#Branch_pipeline\n",
        "branch_model = Pipeline([\n",
        "    (\"preprocessor\", preprocessor_softmax),\n",
        "    (\"classifier\", LogisticRegression(\n",
        "        multi_class=\"multinomial\",\n",
        "        solver=\"lbfgs\",\n",
        "        max_iter=1000,\n",
        "        n_jobs=-1,\n",
        "        random_state=42\n",
        "    ))\n",
        "])"
      ],
      "metadata": {
        "id": "WaqKKZPTZnZ0"
      },
      "execution_count": null,
      "outputs": []
    },
    {
      "cell_type": "code",
      "source": [
        "#Splitting data for college model\n",
        "X_train_c, X_test_c, y_train_c, y_test_c = train_test_split(X, Y_college, test_size=0.2, stratify=Y_college, random_state=42)"
      ],
      "metadata": {
        "id": "Q-Bh3E3eZ9kI"
      },
      "execution_count": null,
      "outputs": []
    },
    {
      "cell_type": "code",
      "source": [
        "#Splitting data for branch model\n",
        "X_train_b, X_test_b, y_train_b, y_test_b = train_test_split(X,Y_branch, test_size=0.2, stratify=Y_branch, random_state=42)"
      ],
      "metadata": {
        "id": "XFoHti4kaiTo"
      },
      "execution_count": null,
      "outputs": []
    },
    {
      "cell_type": "code",
      "source": [
        "#Fitting data for both models\n",
        "college_model.fit(X_train_c, y_train_c)\n",
        "branch_model.fit(X_train_b, y_train_b)"
      ],
      "metadata": {
        "id": "u_1T0VGXalqH"
      },
      "execution_count": null,
      "outputs": []
    },
    {
      "cell_type": "code",
      "source": [
        "from sklearn.metrics import accuracy_score, classification_report\n",
        "\n",
        "y_pred_c = college_model.predict(X_test_c)\n",
        "print(\"College Prediction Accuracy:\", accuracy_score(y_test_c, y_pred_c))"
      ],
      "metadata": {
        "id": "4Xz5Ygw9a0HU"
      },
      "execution_count": null,
      "outputs": []
    },
    {
      "cell_type": "code",
      "source": [],
      "metadata": {
        "id": "3kRA6bcoa_Bx"
      },
      "execution_count": null,
      "outputs": []
    },
    {
      "cell_type": "code",
      "metadata": {
        "id": "037d063e"
      },
      "source": [
        "from sklearn.metrics import classification_report\n",
        "\n",
        "y_pred_c = college_model.predict(X_test_c)\n",
        "report_c = classification_report(y_test_c, y_pred_c, zero_division=0, output_dict=True)\n",
        "weighted_precision_c = report_c['weighted avg']['precision']\n",
        "print(f\"Weighted Precision for College Model: {weighted_precision_c:.4f}\")"
      ],
      "execution_count": null,
      "outputs": []
    },
    {
      "cell_type": "code",
      "source": [
        "print(classification_report(y_test_c, y_pred_c, zero_division=0))"
      ],
      "metadata": {
        "id": "3B41ZbE_b2Li"
      },
      "execution_count": null,
      "outputs": []
    },
    {
      "cell_type": "code",
      "source": [
        "y_pred_b = branch_model.predict(X_test_b)\n",
        "print(\"Branch Prediction Accuracy:\", accuracy_score(y_test_b, y_pred_b))"
      ],
      "metadata": {
        "id": "2qOcbWrdb231"
      },
      "execution_count": null,
      "outputs": []
    },
    {
      "cell_type": "code",
      "source": [
        "print(classification_report(y_test_b, y_pred_b, zero_division=0))"
      ],
      "metadata": {
        "id": "zH-FCsDycCza"
      },
      "execution_count": null,
      "outputs": []
    },
    {
      "cell_type": "code",
      "source": [
        "new_data = pd.DataFrame([{\n",
        "    \"round\": 2,\n",
        "    \"seat_type\": \"WBJEE\",\n",
        "    \"domicile\": \"AI\",\n",
        "    \"reservation\": \"Open\",\n",
        "    \"opening_rank\": 5000,\n",
        "    \"closing_rank\": 20000,\n",
        "    \"year\": 2024,\n",
        "    \"college_type\": \"Private\",\n",
        "    \"closing_norm\": 1.5,\n",
        "    \"difficulty_level\": \"Medium\"\n",
        "}])\n",
        "\n",
        "print(\"Predicted College:\", college_model.predict(new_data)[0])\n",
        "print(\"Predicted Branch:\", branch_model.predict(new_data)[0])"
      ],
      "metadata": {
        "id": "4C1oGX0ucFMx"
      },
      "execution_count": null,
      "outputs": []
    },
    {
      "cell_type": "code",
      "source": [
        "param_grid = {\n",
        "    \"classifier__C\": [0.01, 0.1, 1, 10],\n",
        "    \"classifier__solver\": [\"lbfgs\", \"saga\"],\n",
        "    \"classifier__penalty\": [\"l2\"]\n",
        "}"
      ],
      "metadata": {
        "id": "_-AmPm1NcQew"
      },
      "execution_count": null,
      "outputs": []
    },
    {
      "cell_type": "code",
      "source": [
        "grid_college = GridSearchCV(\n",
        "    college_model,\n",
        "    param_grid,\n",
        "    cv=5,\n",
        "    n_jobs=-1,\n",
        "    scoring=\"accuracy\",\n",
        "    verbose=1\n",
        ")\n",
        "\n",
        "grid_college.fit(X_train_c, y_train_c)\n",
        "\n",
        "print(\"Best College Model Params:\", grid_college.best_params_)\n",
        "print(\"Best College CV Accuracy:\", grid_college.best_score_)"
      ],
      "metadata": {
        "id": "z-56CqZbczyI"
      },
      "execution_count": null,
      "outputs": []
    },
    {
      "cell_type": "code",
      "source": [
        "grid_branch = GridSearchCV(\n",
        "    branch_model,\n",
        "    param_grid,\n",
        "    cv=5,\n",
        "    n_jobs=-1,\n",
        "    scoring=\"accuracy\",\n",
        "    verbose=1\n",
        ")\n",
        "\n",
        "grid_branch.fit(X_train_b, y_train_b)\n",
        "\n",
        "print(\"Best Branch Model Params:\", grid_branch.best_params_)\n",
        "print(\"Best Branch CV Accuracy:\", grid_branch.best_score_)"
      ],
      "metadata": {
        "id": "tu_OimuOem55"
      },
      "execution_count": null,
      "outputs": []
    },
    {
      "cell_type": "code",
      "source": [
        "# College\n",
        "best_college = grid_college.best_estimator_\n",
        "y_pred_c = best_college.predict(X_test_c)\n",
        "print(\"Test Accuracy (College):\", accuracy_score(y_test_c, y_pred_c))\n",
        "\n",
        "# Branch\n",
        "best_branch = grid_branch.best_estimator_\n",
        "y_pred_b = best_branch.predict(X_test_b)\n",
        "print(\"Test Accuracy (Branch):\", accuracy_score(y_test_b, y_pred_b))"
      ],
      "metadata": {
        "id": "HdGPT8wbc4zv"
      },
      "execution_count": null,
      "outputs": []
    },
    {
      "cell_type": "code",
      "source": [
        "preprocessor_random = ColumnTransformer(\n",
        "    transformers=[\n",
        "        (\"cat\", OneHotEncoder(handle_unknown=\"ignore\"), categorical_columns),\n",
        "        (\"num\",\"passthrough\", numerical_columns)\n",
        "    ]\n",
        ")"
      ],
      "metadata": {
        "id": "inuV6M-_ffhd"
      },
      "execution_count": null,
      "outputs": []
    },
    {
      "cell_type": "code",
      "source": [
        "from sklearn.ensemble import RandomForestClassifier\n",
        "\n",
        "branch_rf = Pipeline([\n",
        "    (\"preprocessor\", preprocessor_random),\n",
        "    (\"classifier\", RandomForestClassifier(\n",
        "        n_estimators=300, max_depth=20, random_state=42, n_jobs=-1\n",
        "    ))\n",
        "])\n",
        "\n",
        "branch_rf.fit(X_train_b, y_train_b)\n",
        "print(\"RF Branch Accuracy:\", branch_rf.score(X_test_b, y_test_b))\n"
      ],
      "metadata": {
        "id": "4rXl1lfwejIv"
      },
      "execution_count": null,
      "outputs": []
    },
    {
      "cell_type": "code",
      "source": [
        "college_rf = Pipeline([\n",
        "    (\"preprocessor\", preprocessor_random),\n",
        "    (\"classifier\", RandomForestClassifier(\n",
        "        n_estimators=300, max_depth=20, random_state=42, n_jobs=-1\n",
        "    ))\n",
        "])\n",
        "college_rf.fit(X_train_c, y_train_c)\n",
        "print(\"RF College Accuracy:\", college_rf.score(X_test_c, y_test_c))"
      ],
      "metadata": {
        "id": "6zvXpRYCgIwK"
      },
      "execution_count": null,
      "outputs": []
    },
    {
      "cell_type": "code",
      "source": [
        "from sklearn.metrics import top_k_accuracy_score\n",
        "\n",
        "y_proba = college_rf.predict_proba(X_test_c)\n",
        "print(\"Top-3 College Accuracy:\", top_k_accuracy_score(y_test_c, y_proba, k=3, labels=college_rf.named_steps['classifier'].classes_))"
      ],
      "metadata": {
        "id": "GZCI7sPBfrP_"
      },
      "execution_count": null,
      "outputs": []
    },
    {
      "cell_type": "code",
      "source": [
        "from sklearn.metrics import top_k_accuracy_score\n",
        "\n",
        "# Example for College\n",
        "y_proba_c = college_model.predict_proba(X_test_c)\n",
        "print(\"College Top-5 Accuracy:\", top_k_accuracy_score(y_test_c, y_proba_c, k=5, labels=college_model.named_steps['classifier'].classes_))\n",
        "\n",
        "# Example for Branch\n",
        "y_proba_b = branch_model.predict_proba(X_test_b)\n",
        "print(\"Branch Top-5 Accuracy:\", top_k_accuracy_score(y_test_b, y_proba_b, k=5, labels=branch_model.named_steps['classifier'].classes_))"
      ],
      "metadata": {
        "id": "i0JltrKviYJX"
      },
      "execution_count": null,
      "outputs": []
    },
    {
      "cell_type": "markdown",
      "source": [
        "WELL THE MODEL SUCK'S LITERALLY BOTH OF THEM LETS TRY A DIFFERENT APPROACH WE WILL TRAIN A DIFFERENT APPROACH"
      ],
      "metadata": {
        "id": "zg8s35BvhpQa"
      }
    }
  ]
}