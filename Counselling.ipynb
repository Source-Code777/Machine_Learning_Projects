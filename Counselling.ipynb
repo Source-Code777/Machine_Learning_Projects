{
  "nbformat": 4,
  "nbformat_minor": 0,
  "metadata": {
    "colab": {
      "provenance": [],
      "authorship_tag": "ABX9TyMEMnOV//W7GUxeTu+jqu2Y",
      "include_colab_link": true
    },
    "kernelspec": {
      "name": "python3",
      "display_name": "Python 3"
    },
    "language_info": {
      "name": "python"
    }
  },
  "cells": [
    {
      "cell_type": "markdown",
      "metadata": {
        "id": "view-in-github",
        "colab_type": "text"
      },
      "source": [
        "<a href=\"https://colab.research.google.com/github/Source-Code777/Machine_Learning_Projects/blob/main/Counselling.ipynb\" target=\"_parent\"><img src=\"https://colab.research.google.com/assets/colab-badge.svg\" alt=\"Open In Colab\"/></a>"
      ]
    },
    {
      "cell_type": "markdown",
      "source": [
        "# **GATHERING DATA USING PANDAS WEB_SCRAPPER FROM WBJEE_WEBSITE**"
      ],
      "metadata": {
        "id": "2cu1LBlO9I5p"
      }
    },
    {
      "cell_type": "code",
      "execution_count": null,
      "metadata": {
        "id": "yLvSEftLvKSk"
      },
      "outputs": [],
      "source": [
        "import pandas as pd\n",
        "url_23='https://admissions.nic.in/wbjeeb/Applicant/report/orcrreport.aspx?enc=b6w3EPyuw0C4FADZ4v1XmYUz0XFq314fzLjkE3wbM2xr/DbsjpvUS9LBCKXjSeSL'\n",
        "tables_23=pd.read_html(url_23)\n",
        "url_24='https://admissions.nic.in/wbjeeb/Applicant/report/orcrreport.aspx?enc=Nm7QwHILXclJQSv2YVS+7l8OpFY/O746kfneOXEneV50mv1B/txHsSKB11hFlsvw'\n",
        "tables_24=pd.read_html(url_24)"
      ]
    },
    {
      "cell_type": "markdown",
      "source": [
        "**CREATING DATAFRAMES YEAR-WISE**"
      ],
      "metadata": {
        "id": "JYGzbyBt9hJg"
      }
    },
    {
      "cell_type": "code",
      "source": [
        "df_23=tables_23[0]\n",
        "df_24=tables_24[0]"
      ],
      "metadata": {
        "id": "YotwbVEcv5cq"
      },
      "execution_count": null,
      "outputs": []
    },
    {
      "cell_type": "code",
      "source": [
        "df_23.sample(5)"
      ],
      "metadata": {
        "id": "7Lw5VHPCjm7U"
      },
      "execution_count": null,
      "outputs": []
    },
    {
      "cell_type": "markdown",
      "source": [
        "**RE-NAMING THE FEATURES **"
      ],
      "metadata": {
        "id": "BshxMNk1lpcs"
      }
    },
    {
      "cell_type": "code",
      "source": [
        "def clean_table(df, year):\n",
        "\n",
        "    df.columns = df.columns.str.strip()\n",
        "    rename_map = {\n",
        "        \"Institute\": \"College Name\",\n",
        "        \"Institute Name\": \"College Name\",\n",
        "        \"Program\": \"Program\",\n",
        "        \"Branch\": \"Program\",\n",
        "        \"Quota\": \"Quota\",\n",
        "        \"Seat Pool\": \"Quota\",\n",
        "        \"Category\": \"Category\",\n",
        "        \"Opening Rank\": \"Opening Rank\",\n",
        "        \"Closing Rank\": \"Closing Rank\",\n",
        "        \"Round\": \"Round\"\n",
        "    }\n",
        "    df = df.rename(columns={col: rename_map.get(col, col) for col in df.columns})\n",
        "    df[\"Year\"] = year\n",
        "    return df"
      ],
      "metadata": {
        "id": "uHWLktwS9nUl"
      },
      "execution_count": null,
      "outputs": []
    },
    {
      "cell_type": "markdown",
      "source": [
        " **ADDING YEAR COLUMN IN THE DATAFRAME**"
      ],
      "metadata": {
        "id": "y0zNMkPYmTZn"
      }
    },
    {
      "cell_type": "code",
      "source": [
        "df_23 = clean_table(df_23, 2023)\n",
        "df_24 = clean_table(df_24, 2024)"
      ],
      "metadata": {
        "id": "caa87IpxwUQW"
      },
      "execution_count": null,
      "outputs": []
    },
    {
      "cell_type": "markdown",
      "source": [
        "**CONACATENATING THE DATA-FRAMES**"
      ],
      "metadata": {
        "id": "naYvht7sme-1"
      }
    },
    {
      "cell_type": "code",
      "source": [
        "df = pd.concat([df_23, df_24], ignore_index=True)\n",
        "\n",
        "df[\"Opening Rank\"] = pd.to_numeric(df[\"Opening Rank\"], errors=\"coerce\")\n",
        "df[\"Closing Rank\"] = pd.to_numeric(df[\"Closing Rank\"], errors=\"coerce\")\n",
        "\n",
        "print(df.shape)\n",
        "print(df.head())"
      ],
      "metadata": {
        "id": "9UDAC5_x-BZJ"
      },
      "execution_count": null,
      "outputs": []
    },
    {
      "cell_type": "code",
      "source": [
        "df.sample(5)"
      ],
      "metadata": {
        "id": "m5Z7r9jnwWrJ"
      },
      "execution_count": null,
      "outputs": []
    },
    {
      "cell_type": "code",
      "source": [
        "df.shape"
      ],
      "metadata": {
        "id": "Ul2O7kobwlIz"
      },
      "execution_count": null,
      "outputs": []
    },
    {
      "cell_type": "code",
      "source": [
        "df.isnull().sum()"
      ],
      "metadata": {
        "id": "3IhyZ8LpwoVy"
      },
      "execution_count": null,
      "outputs": []
    },
    {
      "cell_type": "code",
      "source": [
        "df=df.drop(['Sr.No'],axis=1)"
      ],
      "metadata": {
        "id": "thkuB8lvnYfF"
      },
      "execution_count": null,
      "outputs": []
    },
    {
      "cell_type": "code",
      "source": [
        "df.sample(5)"
      ],
      "metadata": {
        "id": "WCY7JBrAw3th"
      },
      "execution_count": null,
      "outputs": []
    },
    {
      "cell_type": "code",
      "source": [
        "df['Category'].unique()"
      ],
      "metadata": {
        "id": "nvKPl_cGxBHR"
      },
      "execution_count": null,
      "outputs": []
    },
    {
      "cell_type": "code",
      "source": [
        "df['Stream'].unique()"
      ],
      "metadata": {
        "id": "ZkP1aQiIxYQs"
      },
      "execution_count": null,
      "outputs": []
    },
    {
      "cell_type": "code",
      "source": [
        "df['Quota'].unique()"
      ],
      "metadata": {
        "id": "e86lKcdyxrMy"
      },
      "execution_count": null,
      "outputs": []
    },
    {
      "cell_type": "code",
      "source": [
        "!pip install ydata-profiling"
      ],
      "metadata": {
        "id": "n0aeiRv7x4iA"
      },
      "execution_count": null,
      "outputs": []
    },
    {
      "cell_type": "markdown",
      "source": [
        "# **DATA-VISUALIZATION USING PANDAS PROFILER**"
      ],
      "metadata": {
        "id": "e0BFOhSwoNI6"
      }
    },
    {
      "cell_type": "code",
      "source": [
        "import pandas as pd\n",
        "from ydata_profiling import ProfileReport"
      ],
      "metadata": {
        "id": "P3ZF-77nyYIy"
      },
      "execution_count": null,
      "outputs": []
    },
    {
      "cell_type": "code",
      "source": [
        "profile = ProfileReport(df, title=\"My DataFrame Profile\")\n",
        "profile.to_file(\"report.html\")\n",
        "from IPython.display import HTML\n",
        "HTML(filename='report.html')"
      ],
      "metadata": {
        "id": "efGWE-ssyopR"
      },
      "execution_count": null,
      "outputs": []
    },
    {
      "cell_type": "markdown",
      "source": [
        "PROBLEMS DETECTED IN THE DATA-:\n",
        "\n",
        "1.Category is highly overall correlated with Quota\tHigh correlation.\n",
        "\n",
        "2.Closing Rank is highly overall correlated with Opening Rank and 1 other fields\tHigh correlation\n",
        "\n",
        "3.Opening Rank is highly overall correlated with Closing Rank and 1 other fields\tHigh correlation\n",
        "\n",
        "4.Quota is highly overall correlated with Category and 1 other fields\tHigh correlation\n",
        "\n",
        "5.Seat Type is highly overall correlated with Closing Rank and 3 other fields\tHigh correlation\n",
        "\n",
        "6.Stream is highly overall correlated with Seat Type and 1 other fields\tHigh correlation\n",
        "\n",
        "7.Year is highly overall correlated with Stream"
      ],
      "metadata": {
        "id": "5KhTyBnSp2EH"
      }
    },
    {
      "cell_type": "code",
      "source": [
        "df.sample(5)"
      ],
      "metadata": {
        "id": "SOKsmIhjy1rW"
      },
      "execution_count": null,
      "outputs": []
    },
    {
      "cell_type": "markdown",
      "source": [
        "# **DATA PREPROCESSING**"
      ],
      "metadata": {
        "id": "kZSEaLwHqhGJ"
      }
    },
    {
      "cell_type": "code",
      "source": [
        "df['Round']=df['Round'].str.replace('Round ', '').astype(int)\n",
        "df.head()"
      ],
      "metadata": {
        "id": "NmM2vMCPzchq"
      },
      "execution_count": null,
      "outputs": []
    },
    {
      "cell_type": "code",
      "source": [
        "df['Program'].unique()"
      ],
      "metadata": {
        "id": "GQGm4xtR1WFF"
      },
      "execution_count": null,
      "outputs": []
    },
    {
      "cell_type": "code",
      "source": [
        "df['Program'].duplicated()"
      ],
      "metadata": {
        "id": "SjtOz8OJ2Y6Y"
      },
      "execution_count": null,
      "outputs": []
    },
    {
      "cell_type": "code",
      "metadata": {
        "id": "5251808f"
      },
      "source": [
        "tfw_programs = df[df['Program'].str.contains('TFW')]['Program'].unique()\n",
        "display(tfw_programs)"
      ],
      "execution_count": null,
      "outputs": []
    },
    {
      "cell_type": "code",
      "metadata": {
        "id": "2fc5a903"
      },
      "source": [
        "df['Program'] = df['Program'].str.replace('TFW', '').str.strip()\n",
        "display(df.head())"
      ],
      "execution_count": null,
      "outputs": []
    },
    {
      "cell_type": "code",
      "source": [
        "df['Program'].unique()"
      ],
      "metadata": {
        "id": "2R5TRaaJ33vB"
      },
      "execution_count": null,
      "outputs": []
    },
    {
      "cell_type": "markdown",
      "source": [
        "# **CLEANING THE PROGRAM COLUMN**"
      ],
      "metadata": {
        "id": "x5HUrZT1sa0J"
      }
    },
    {
      "cell_type": "code",
      "metadata": {
        "id": "bf0548c2"
      },
      "source": [
        "import re\n",
        "df['Program'] = df['Program'].str.replace(',', '').str.replace('.', '', regex=False)\n",
        "df['Program'] = df['Program'].apply(lambda x: re.sub(r'\\(.*\\)', '', x)).str.strip()\n",
        "display(df['Program'].unique())"
      ],
      "execution_count": null,
      "outputs": []
    },
    {
      "cell_type": "code",
      "metadata": {
        "id": "42cee890"
      },
      "source": [
        "display(df['Program'].unique())"
      ],
      "execution_count": null,
      "outputs": []
    },
    {
      "cell_type": "code",
      "metadata": {
        "id": "0b663a81"
      },
      "source": [
        "computer_programs = df[df['Program'].str.contains('COMPUTER')]\n",
        "display(computer_programs)"
      ],
      "execution_count": null,
      "outputs": []
    },
    {
      "cell_type": "code",
      "metadata": {
        "id": "bde02a7c"
      },
      "source": [
        "display(df['Program'].unique())"
      ],
      "execution_count": null,
      "outputs": []
    },
    {
      "cell_type": "markdown",
      "source": [
        "# **CREATING A MAPPING FUNCTION AND APPLYING IT ON PROGRAM COLUMN**"
      ],
      "metadata": {
        "id": "TMFWJZ9YszJq"
      }
    },
    {
      "cell_type": "code",
      "source": [
        "keywords = {\n",
        "    'COMPUTER': 'CSE',\n",
        "    'INFORMATION TECHNOLOGY': 'IT',\n",
        "    'DATA SCIENCE': 'DS',\n",
        "    'ARTIFICIAL INTELLIGENCE': 'AI',\n",
        "    'CIVIL': 'CE',\n",
        "    'MECHANICAL': 'ME',\n",
        "    'ELECTRICAL': 'EE',\n",
        "    'ELECTRONICS': 'ECE',\n",
        "    'BIOMEDICAL': 'BME',\n",
        "    'BIOTECH': 'BT',\n",
        "    'CHEMICAL': 'CHE',\n",
        "    'CERAMIC': 'CER',\n",
        "    'METALLURGICAL': 'MME',\n",
        "    'TEXTILE': 'TT',\n",
        "    'FOOD': 'FT',\n",
        "    'DAIRY': 'DT',\n",
        "    'AGRICULTURAL': 'AG',\n",
        "    'MARINE': 'MRE',\n",
        "    'MINING': 'MN',\n",
        "    'PHARM': 'PHARM',\n",
        "    'ARCHITECTURAL': 'ARCH',\n",
        "    'AUTOMOBILE': 'AUTO',\n",
        "    'ROBOT': 'ROB',\n",
        "    'PLANNING': 'BP',\n",
        "    'PRODUCTION': 'PR'\n",
        "}"
      ],
      "metadata": {
        "id": "lvj2h_Xe4WKb"
      },
      "execution_count": null,
      "outputs": []
    },
    {
      "cell_type": "code",
      "source": [
        "def map_branch(x):\n",
        "  x = str(x).strip().upper()\n",
        "  x = x.replace(\"&\", \"AND\")\n",
        "  x = x.replace(\"/\", \" \")\n",
        "  x = x.replace(\"-\", \" \")\n",
        "  x = x.replace(\"  -\", \" \")\n",
        "  for k,v in keywords.items():\n",
        "    if k in x:\n",
        "      return v\n",
        "  return 'OTHER'"
      ],
      "metadata": {
        "id": "ZWWfhw8K4eUi"
      },
      "execution_count": null,
      "outputs": []
    },
    {
      "cell_type": "code",
      "source": [
        "df['Program_Ref']=df['Program'].apply(map_branch)"
      ],
      "metadata": {
        "id": "cqW1SIoW8tCm"
      },
      "execution_count": null,
      "outputs": []
    },
    {
      "cell_type": "code",
      "source": [
        "df = df.drop(columns=[\"Stream\"],axis=1)\n",
        "df=df.drop(['Program'],axis=1)"
      ],
      "metadata": {
        "id": "mYvgcFykrutB"
      },
      "execution_count": null,
      "outputs": []
    },
    {
      "cell_type": "code",
      "source": [
        "df.sample(5)"
      ],
      "metadata": {
        "id": "xo1berWw82qV"
      },
      "execution_count": null,
      "outputs": []
    },
    {
      "cell_type": "code",
      "source": [
        "df.isna().sum()"
      ],
      "metadata": {
        "id": "V4xdCemmAjQB"
      },
      "execution_count": null,
      "outputs": []
    },
    {
      "cell_type": "markdown",
      "source": [
        "# **VISUALIZING THE DATA**"
      ],
      "metadata": {
        "id": "umwzelCQvqFC"
      }
    },
    {
      "cell_type": "code",
      "source": [
        "import seaborn as sns\n",
        "import matplotlib.pyplot as plt\n",
        "\n",
        "sns.boxplot(x=\"Year\", y=\"Closing Rank\", data=df)\n",
        "plt.ticklabel_format(style='plain', axis='y')\n",
        "plt.show()"
      ],
      "metadata": {
        "id": "J-uKH-txvUKW"
      },
      "execution_count": null,
      "outputs": []
    },
    {
      "cell_type": "code",
      "source": [
        "plt.figure(figsize=(10,6))\n",
        "top_colleges = df.groupby(\"College Name\")[\"Closing Rank\"].median().sort_values().head(10)\n",
        "sns.barplot(x=top_colleges.values, y=top_colleges.index)\n",
        "plt.ticklabel_format(style='plain', axis='x')\n",
        "plt.title(\"Top 10 Colleges by Median Closing Rank\")\n",
        "plt.show()"
      ],
      "metadata": {
        "id": "UCadpEuevU6q"
      },
      "execution_count": null,
      "outputs": []
    },
    {
      "cell_type": "code",
      "source": [
        "plt.figure(figsize=(8,6))\n",
        "sns.scatterplot(x=\"Opening Rank\", y=\"Closing Rank\", hue=\"Year\", data=df, alpha=0.6)\n",
        "plt.ticklabel_format(style='plain', axis='both')\n",
        "plt.title(\"Opening vs Closing Rank\")\n",
        "plt.show()"
      ],
      "metadata": {
        "id": "qScILUEFv_fv"
      },
      "execution_count": null,
      "outputs": []
    },
    {
      "cell_type": "code",
      "source": [
        "plt.figure(figsize=(12,6))\n",
        "sns.violinplot(x=\"Category\", y=\"Closing Rank\", data=df, scale=\"width\", inner=\"quartile\")\n",
        "plt.ticklabel_format(style='plain', axis='y')\n",
        "plt.title(\"Closing Rank Distribution by Category\")\n",
        "plt.xticks(rotation=45)\n",
        "plt.show()"
      ],
      "metadata": {
        "id": "AkS6hLqowNN8"
      },
      "execution_count": null,
      "outputs": []
    },
    {
      "cell_type": "code",
      "source": [
        "plt.figure(figsize=(10,6))\n",
        "branch_rank = df.groupby(\"Program_Ref\")[\"Closing Rank\"].mean().sort_values()\n",
        "sns.barplot(x=branch_rank.values, y=branch_rank.index)\n",
        "plt.ticklabel_format(style='plain', axis='x')\n",
        "plt.title(\"Average Closing Rank by Branch\")\n",
        "plt.show()"
      ],
      "metadata": {
        "id": "ffcfa1YywVBD"
      },
      "execution_count": null,
      "outputs": []
    },
    {
      "cell_type": "code",
      "source": [
        "plt.figure(figsize=(10,6))\n",
        "sns.countplot(x=\"Year\", hue=\"Program_Ref\", data=df, palette=\"Set2\")\n",
        "plt.title(\"Branch Popularity Over Years (Seat Allotments)\")\n",
        "plt.legend(bbox_to_anchor=(1.05, 1), loc='upper left')\n",
        "plt.show()"
      ],
      "metadata": {
        "id": "vJ4TnH1swnIG"
      },
      "execution_count": null,
      "outputs": []
    },
    {
      "cell_type": "code",
      "source": [
        "plt.figure(figsize=(12,6))\n",
        "sns.boxplot(x=\"Program_Ref\", y=\"Closing Rank\", hue=\"Year\", data=df)\n",
        "plt.ticklabel_format(style='plain', axis='y')\n",
        "plt.title(\"Closing Rank by Branch and Year\")\n",
        "plt.xticks(rotation=45)\n",
        "plt.show()"
      ],
      "metadata": {
        "id": "4qLL581YwtJk"
      },
      "execution_count": null,
      "outputs": []
    },
    {
      "cell_type": "markdown",
      "source": [
        "# **LET'S DETECT OUTLIERS **"
      ],
      "metadata": {
        "id": "W6a2JKbmx_nE"
      }
    },
    {
      "cell_type": "code",
      "source": [
        "import numpy as np\n",
        "\n",
        "def detect_outliers(df, column):\n",
        "    Q1 = df[column].quantile(0.25)\n",
        "    Q3 = df[column].quantile(0.75)\n",
        "    IQR = Q3 - Q1\n",
        "\n",
        "    lower = Q1 - 1.5 * IQR\n",
        "    upper = Q3 + 1.5 * IQR\n",
        "\n",
        "    outliers = df[(df[column] < lower) | (df[column] > upper)]\n",
        "    return outliers, lower, upper\n",
        "\n",
        "outliers_open, low_open, up_open = detect_outliers(df, \"Opening Rank\")\n",
        "outliers_close, low_close, up_close = detect_outliers(df, \"Closing Rank\")\n",
        "\n",
        "print(\"Opening Rank outliers:\", len(outliers_open))\n",
        "print(\"Closing Rank outliers:\", len(outliers_close))"
      ],
      "metadata": {
        "id": "rJEfzB5Xw55r"
      },
      "execution_count": null,
      "outputs": []
    },
    {
      "cell_type": "code",
      "source": [
        "df.sample(5)"
      ],
      "metadata": {
        "id": "u6vWF0IryRrg"
      },
      "execution_count": null,
      "outputs": []
    },
    {
      "cell_type": "code",
      "source": [],
      "metadata": {
        "id": "Q5NfcaTK-VuU"
      },
      "execution_count": null,
      "outputs": []
    },
    {
      "cell_type": "code",
      "source": [],
      "metadata": {
        "id": "MsMYMIH7B_gZ"
      },
      "execution_count": null,
      "outputs": []
    }
  ]
}